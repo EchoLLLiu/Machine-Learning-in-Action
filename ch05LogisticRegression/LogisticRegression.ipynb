{
 "cells": [
  {
   "cell_type": "code",
   "execution_count": 36,
   "metadata": {},
   "outputs": [],
   "source": [
    "import numpy as np\n",
    "import matplotlib.pyplot as plt"
   ]
  },
  {
   "cell_type": "code",
   "execution_count": 37,
   "metadata": {},
   "outputs": [],
   "source": [
    "%matplotlib inline"
   ]
  },
  {
   "cell_type": "code",
   "execution_count": 38,
   "metadata": {},
   "outputs": [],
   "source": [
    "def loadDataSet(filename):\n",
    "    '''\n",
    "    加载数据\n",
    "    '''\n",
    "    dataList =[]\n",
    "    labelList = []\n",
    "    with open(filename) as f:\n",
    "        for line in f:\n",
    "            lineArr = line.strip().split()\n",
    "            dataList.append([1.0, float(lineArr[0]), float(lineArr[1])])\n",
    "            labelList.append(int(lineArr[2]))\n",
    "    return dataList, labelList"
   ]
  },
  {
   "cell_type": "code",
   "execution_count": 39,
   "metadata": {},
   "outputs": [],
   "source": [
    "def sigmoid(z):\n",
    "    '''\n",
    "    sigmoid函数\n",
    "    '''\n",
    "    return 1.0/(1 + np.exp(-z))"
   ]
  },
  {
   "cell_type": "code",
   "execution_count": 40,
   "metadata": {},
   "outputs": [],
   "source": [
    "def gradAscent(dataMatIn, classLabels, alpha = 0.001, MaxIter = 500):\n",
    "    '''\n",
    "    批处理梯度上升\n",
    "    Args:\n",
    "        dataMatIn: 训练集特征 \n",
    "        classLabels：训练集分类标记\n",
    "        alpha = 0.001：学习率\n",
    "        MaxIter = 500：最大迭代次数\n",
    "    Return:\n",
    "        weights: 更新后的回归系数\n",
    "    '''\n",
    "    dataMatrix = np.mat(dataMatIn)\n",
    "    labelMat = np.mat(classLabels).T\n",
    "    m, n = np.shape(dataMatrix)\n",
    "    weights = np.ones((n,1))\n",
    "    for k in range(MaxIter):\n",
    "        h = sigmoid(dataMatrix * weights)\n",
    "        error = labelMat - h\n",
    "        weights = weights + alpha * dataMatrix.T * error\n",
    "    return weights"
   ]
  },
  {
   "cell_type": "code",
   "execution_count": 41,
   "metadata": {},
   "outputs": [
    {
     "data": {
      "text/plain": [
       "matrix([[ 4.12414349],\n",
       "        [ 0.48007329],\n",
       "        [-0.6168482 ]])"
      ]
     },
     "execution_count": 41,
     "metadata": {},
     "output_type": "execute_result"
    }
   ],
   "source": [
    "dataList, labelList = loadDataSet('data/testSet.txt')\n",
    "weights = gradAscent(dataList, labelList)\n",
    "weights"
   ]
  },
  {
   "cell_type": "code",
   "execution_count": 86,
   "metadata": {},
   "outputs": [],
   "source": [
    "def plotBestFit(weights, dataList, labelList):\n",
    "    dataArr = np.array(dataList) \n",
    "    n = np.shape(dataArr)[0]\n",
    "    xcord1 = []\n",
    "    ycord1 = []\n",
    "    xcord2 = []\n",
    "    ycord2 = []\n",
    "    for i in range(n):\n",
    "        if int(labelList[i]) == 1:\n",
    "            xcord1.append(dataArr[i,1])\n",
    "            ycord1.append(dataArr[i,2])\n",
    "        else:\n",
    "            xcord2.append(dataArr[i,1])\n",
    "            ycord2.append(dataArr[i,2])\n",
    "    fig = plt.figure()\n",
    "    ax = fig.add_subplot(111)\n",
    "    ax.scatter(xcord1, ycord1, s=30, c='red', marker='s')\n",
    "    ax.scatter(xcord2, ycord2, s=30, c='green')\n",
    "    x = np.arange(-3.0, 3.0, 0.1).reshape(-1,1)\n",
    "    # 最佳拟合直线: w0+w1*x1+w2*x2=0 —> x2 = (-w0-w1*x1)/w2\n",
    "    # 注意！！！x * (weights[1])顺序不能颠倒\n",
    "    y = (-weights[0]-x * (weights[1]))/weights[2]\n",
    "    ax.plot(x,y)\n",
    "    plt.xlabel('x1')\n",
    "    plt.ylabel('x2')\n",
    "    plt.show()"
   ]
  },
  {
   "cell_type": "code",
   "execution_count": 87,
   "metadata": {},
   "outputs": [
    {
     "data": {
      "image/png": "[encoded data removed]",
      "text/plain": [
       "<matplotlib.figure.Figure at 0x1f7a1f46278>"
      ]
     },
     "metadata": {},
     "output_type": "display_data"
    }
   ],
   "source": [
    "plotBestFit(weights, dataList, labelList)"
   ]
  },
  {
   "cell_type": "code",
   "execution_count": 168,
   "metadata": {},
   "outputs": [],
   "source": [
    "def stocGradAscent0(dataList, labelList, alpha=0.01):\n",
    "    '''\n",
    "    随机梯度上升\n",
    "    Args:\n",
    "        dataMatrix: 训练集特征 \n",
    "        classLabels：训练集分类标记\n",
    "        alpha = 0.01：学习率\n",
    "    Return:\n",
    "        weights: 更新后的回归系数\n",
    "    '''\n",
    "    dataMatrix = np.mat(dataList)\n",
    "    classLabels = np.mat(labelList).T\n",
    "    m,n = np.shape(dataMatrix)\n",
    "    weights = np.ones((n,1))\n",
    "    for i in range(m):\n",
    "        h = sigmoid(np.sum(dataMatrix[i]*weights))\n",
    "        error = classLabels[i] - h\n",
    "        weights = weights + dataMatrix[i].T * alpha * error \n",
    "    return weights"
   ]
  },
  {
   "cell_type": "code",
   "execution_count": 169,
   "metadata": {},
   "outputs": [
    {
     "data": {
      "text/plain": [
       "matrix([[ 1.01702007],\n",
       "        [ 0.85914348],\n",
       "        [-0.36579921]])"
      ]
     },
     "execution_count": 169,
     "metadata": {},
     "output_type": "execute_result"
    }
   ],
   "source": [
    "dataList, labelList = loadDataSet('data/testSet.txt')\n",
    "weights = stocGradAscent0(dataList, labelList)\n",
    "weights"
   ]
  },
  {
   "cell_type": "code",
   "execution_count": 170,
   "metadata": {},
   "outputs": [
    {
     "data": {
      "image/png": "[encoded data removed]",
      "text/plain": [
       "<matplotlib.figure.Figure at 0x1f7a0c01f98>"
      ]
     },
     "metadata": {},
     "output_type": "display_data"
    }
   ],
   "source": [
    "plotBestFit(weights, dataList, labelList)"
   ]
  },
  {
   "cell_type": "code",
   "execution_count": 185,
   "metadata": {},
   "outputs": [],
   "source": [
    "def stocGradAscent1(dataList, labelList, MaxIter=150):\n",
    "    '''\n",
    "    随机梯度上升(控制整个迭代次数以足够达到收敛，每次随机选取样本)\n",
    "    Args:\n",
    "        dataMatrix: 训练集特征 \n",
    "        classLabels：训练集分类标记\n",
    "        alpha = 0.01：学习率\n",
    "    Return:\n",
    "        weights: 更新后的回归系数\n",
    "    '''\n",
    "    dataMatrix = np.mat(dataList)\n",
    "    classLabels = np.mat(labelList).T\n",
    "    m,n = np.shape(dataMatrix)\n",
    "    weights = np.ones((n,1))\n",
    "    for j in range(MaxIter):\n",
    "        dataIndex = range(m)\n",
    "        for i in range(m):\n",
    "            # 每次迭代体征学习率\n",
    "            alpha = 4 / (1.0 + j + i) + 0.01\n",
    "            randIndex = int(np.random.uniform(0, len(dataIndex)))\n",
    "            h = sigmoid(np.sum(dataMatrix[randIndex]*weights))\n",
    "            error = classLabels[randIndex] - h\n",
    "            weights = weights + dataMatrix[randIndex].T * alpha * error \n",
    "    return weights"
   ]
  },
  {
   "cell_type": "code",
   "execution_count": 186,
   "metadata": {},
   "outputs": [
    {
     "data": {
      "text/plain": [
       "matrix([[13.64987666],\n",
       "        [ 1.05845884],\n",
       "        [-1.81470255]])"
      ]
     },
     "execution_count": 186,
     "metadata": {},
     "output_type": "execute_result"
    }
   ],
   "source": [
    "dataList, labelList = loadDataSet('data/testSet.txt')\n",
    "weights = stocGradAscent1(dataList, labelList)\n",
    "weights"
   ]
  },
  {
   "cell_type": "code",
   "execution_count": 187,
   "metadata": {},
   "outputs": [
    {
     "data": {
      "image/png": "[encoded data removed]",
      "text/plain": [
       "<matplotlib.figure.Figure at 0x1f7a0e2b7f0>"
      ]
     },
     "metadata": {},
     "output_type": "display_data"
    }
   ],
   "source": [
    "plotBestFit(weights, dataList, labelList)"
   ]
  },
  {
   "cell_type": "markdown",
   "metadata": {},
   "source": [
    "## 小例子：从疝气病症预测病马的死亡率\n",
    "### 1.处理数据中的缺失值\n",
    "可选做法：<br/>\n",
    "（1）使用可用特征的均值太填补缺失值<br/>\n",
    "（2）使用特殊值来填补缺失值，如-1<br/>\n",
    "（3）忽略有缺失值的样本<br/>\n",
    "（4）使用相似样本的均值来添补缺失值<br/>\n",
    "（5）使用另外的机器学习算法预测缺失值<br/>\n",
    "**在此，我们选择第（2）种方法，对缺失值替换成0，这是由于当特征值为0时，对应系数将不做更新；且sigmiod(0)=0.5，对结果的预测不具有倾向性。若类别标签缺失，则丢弃数据**"
   ]
  },
  {
   "cell_type": "code",
   "execution_count": 188,
   "metadata": {},
   "outputs": [],
   "source": [
    " def classifyVector(inx, weights):\n",
    "        '''\n",
    "        分类函数\n",
    "        Args:\n",
    "            inx: 每个样本特征向量\n",
    "            weights: 逻辑回归系数参数\n",
    "        Return:\n",
    "            分类标签1或0\n",
    "        '''\n",
    "        prob = sigmoid(np.sum(inx * weights))\n",
    "        if prob > 0.5:\n",
    "            return 1.0\n",
    "        else:\n",
    "            return 0.0"
   ]
  },
  {
   "cell_type": "code",
   "execution_count": 195,
   "metadata": {},
   "outputs": [],
   "source": [
    "def colicTest():\n",
    "    '''\n",
    "    测试函数\n",
    "    使用训练集训练模型，再使用测试集进行测试，并计算出错误率\n",
    "    '''\n",
    "    trainFile = 'data/horseColicTraining.txt'\n",
    "    testFile = 'data/horseColicTest.txt'\n",
    "    trainingSet = []\n",
    "    trainingLabels = []\n",
    "    # 训练出模型参数\n",
    "    with open(trainFile) as ftrain:\n",
    "        for line in ftrain:\n",
    "            lineArr = line.strip().split('\\t')\n",
    "            lineArr = list(map(float, lineArr))\n",
    "            trainingSet.append(lineArr[:-1])\n",
    "            trainingLabels.append(lineArr[-1])\n",
    "    trainWeights = stocGradAscent1(trainingSet, trainingLabels, 500)\n",
    "    # 使用训练好的模型进行验证\n",
    "    errorCount = 0\n",
    "    numTestVec = 0.0\n",
    "    with open(testFile) as ftest:\n",
    "        for line in ftest:\n",
    "            numTestVec += 1.0\n",
    "            lineArr = line.strip().split('\\t')\n",
    "            lineArr = list(map(float, lineArr))\n",
    "            testArr = lineArr[:-1]\n",
    "            testLabel = lineArr[-1]\n",
    "            if int(classifyVector(testArr, trainWeights)) != int(testLabel):\n",
    "                errorCount += 1\n",
    "    errorRate = (float(errorCount)/numTestVec)\n",
    "    print('the error rate of this test is: %f' % errorRate)\n",
    "    return errorRate"
   ]
  },
  {
   "cell_type": "code",
   "execution_count": 197,
   "metadata": {},
   "outputs": [],
   "source": [
    "def multiTest():\n",
    "    '''\n",
    "    进行10次模型的训练与预测，并对10次的错误率求平均值\n",
    "    '''\n",
    "    numTests = 10\n",
    "    errorSum = 0.0\n",
    "    for k in range(numTests):\n",
    "        errorSum += colicTest()\n",
    "    print('after %d iterations the average error rate is : %f' % (numTests, errorSum/float(numTests)))"
   ]
  },
  {
   "cell_type": "code",
   "execution_count": 198,
   "metadata": {},
   "outputs": [
    {
     "name": "stderr",
     "output_type": "stream",
     "text": [
      "D:\\Anaconda\\lib\\site-packages\\ipykernel_launcher.py:5: RuntimeWarning: overflow encountered in exp\n",
      "  \"\"\"\n"
     ]
    },
    {
     "name": "stdout",
     "output_type": "stream",
     "text": [
      "the error rate of this test is: 0.507463\n",
      "the error rate of this test is: 0.313433\n",
      "the error rate of this test is: 0.253731\n",
      "the error rate of this test is: 0.462687\n",
      "the error rate of this test is: 0.328358\n",
      "the error rate of this test is: 0.313433\n",
      "the error rate of this test is: 0.388060\n",
      "the error rate of this test is: 0.328358\n",
      "the error rate of this test is: 0.567164\n",
      "the error rate of this test is: 0.388060\n",
      "after 10 iterations the average error rate is : 0.385075\n"
     ]
    }
   ],
   "source": [
    "multiTest()"
   ]
  },
  {
   "cell_type": "code",
   "execution_count": null,
   "metadata": {},
   "outputs": [],
   "source": []
  }
 ],
 "metadata": {
  "kernelspec": {
   "display_name": "Python 3",
   "language": "python",
   "name": "python3"
  },
  "language_info": {
   "codemirror_mode": {
    "name": "ipython",
    "version": 3
   },
   "file_extension": ".py",
   "mimetype": "text/x-python",
   "name": "python",
   "nbconvert_exporter": "python",
   "pygments_lexer": "ipython3",
   "version": "3.6.4"
  }
 },
 "nbformat": 4,
 "nbformat_minor": 2
}
